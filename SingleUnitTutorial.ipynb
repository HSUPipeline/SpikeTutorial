{
 "cells": [
  {
   "cell_type": "markdown",
   "metadata": {},
   "source": [
    "# Analyzing Single Neuron Activity\n",
    "\n",
    "In this tutorial we will examine single-neuron data collected from human patients.\n",
    "\n",
    "This tutorial was originally developed by \n",
    "[Salman Qasim](https://seqasim.wixsite.com/research),\n",
    "and has been updated by\n",
    "[Tom Donoghue](https://tomdonoghue.github.io/). \n",
    "\n",
    "### Requirements\n",
    "\n",
    "As well as standard scientific Python packages, this tutorial requires \n",
    "[pynwb](https://github.com/NeurodataWithoutBorders/pynwb)."
   ]
  },
  {
   "cell_type": "code",
   "execution_count": 204,
   "metadata": {},
   "outputs": [],
   "source": [
    "# Imports - standard scientific Python packages\n",
    "import numpy as np\n",
    "import pandas as pd\n",
    "import matplotlib.pyplot as plt\n",
    "\n",
    "from statsmodels.formula.api import ols\n",
    "from statsmodels.stats.anova import anova_lm\n",
    "from scipy.signal import fftconvolve\n",
    "from scipy.stats import ttest_rel\n",
    "\n",
    "# Imports - single-unit related \n",
    "from pynwb import NWBHDF5IO"
   ]
  },
  {
   "cell_type": "code",
   "execution_count": 84,
   "metadata": {},
   "outputs": [],
   "source": [
    "# Import seaborn for plot aesthetics\n",
    "import seaborn as sns\n",
    "sns.set_context('talk')"
   ]
  },
  {
   "cell_type": "markdown",
   "metadata": {},
   "source": [
    "## Overview\n",
    "\n",
    "The predominant way in which a neuron communicates is through **action potentials**. These are rapid depolarizations across the neuronal cell membrane that culminate in a neuron releasing neurotransmitters that can do all sorts of things, like excite or inhibit action potentials in other neurons. Because action potentials are characterized by a large and fast change in membrane potential they can be recorded by microwires placed near the neuronal membrane, making them the most direct \"biomarker\" of neural activity. \n",
    "\n",
    "When we look at neuronal spiking during a behavioral task, we are often looking for increases in the rate of spiking related to behavioral variables. This is thought to imply a relationship between the stimulus and the neuron's spiking, and is called **rate coding**. Here, we are going to cover some of the basics of analyzing single neuron responses. "
   ]
  },
  {
   "cell_type": "markdown",
   "metadata": {},
   "source": [
    "## First Dataset: Object Presentation\n",
    "\n",
    "The first dataset we will use is a an openly available dataset from human patients performing a recognition memory, provided by the \n",
    "[Rutishauser Lab](https://www.cedars-sinai.edu/research/labs/rutishauser.html). \n",
    "\n",
    "In this task, subjects are presented with pictures of objects, that they are later asked to recall. For our purposes, we will focus on the object presentation. \n",
    "\n",
    "For convenience, an example subject is included in this repository. The full dataset is available on \n",
    "[OSF repository](https://osf.io/cd6qp/), and described in this \n",
    "[paper](https://doi.org/10.1038/s41597-020-0415-9)."
   ]
  },
  {
   "cell_type": "markdown",
   "metadata": {},
   "source": [
    "### Load NWB File\n",
    "\n",
    "The data that we are loading are in the [NWB](https://www.nwb.org/) format.\n",
    "\n",
    "In this tutorial, we won't go into much details on NWB files. For more information on these files, see these\n",
    "[NWB examples](https://github.com/TomDonoghue/NWBExamples)."
   ]
  },
  {
   "cell_type": "code",
   "execution_count": 154,
   "metadata": {},
   "outputs": [],
   "source": [
    "# Load datafile\n",
    "file_name = 'object_data.nwb'\n",
    "io = NWBHDF5IO('data/' + file_name, 'r')\n",
    "nwbfile = io.read()"
   ]
  },
  {
   "cell_type": "markdown",
   "metadata": {},
   "source": [
    "### Check Units"
   ]
  },
  {
   "cell_type": "code",
   "execution_count": 155,
   "metadata": {},
   "outputs": [
    {
     "name": "stdout",
     "output_type": "stream",
     "text": [
      "38\n"
     ]
    }
   ],
   "source": [
    "# Check how many units in the current file\n",
    "n_units = len(nwbfile.units)\n",
    "print(n_units)"
   ]
  },
  {
   "cell_type": "code",
   "execution_count": 156,
   "metadata": {},
   "outputs": [],
   "source": [
    "# Set index for the unit of interest\n",
    "s_ind = 0"
   ]
  },
  {
   "cell_type": "code",
   "execution_count": 157,
   "metadata": {},
   "outputs": [],
   "source": [
    "# Extract the waveform for the unit of interest\n",
    "waveform = nwbfile.units['waveform_mean_encoding'][s_ind, :]"
   ]
  },
  {
   "cell_type": "code",
   "execution_count": 158,
   "metadata": {},
   "outputs": [
    {
     "data": {
      "text/plain": [
       "[<matplotlib.lines.Line2D at 0x2b7c3fdffe90>]"
      ]
     },
     "execution_count": 158,
     "metadata": {},
     "output_type": "execute_result"
    },
    {
     "data": {
      "image/png": "[encoded data removed]",
      "text/plain": [
       "<Figure size 432x288 with 1 Axes>"
      ]
     },
     "metadata": {
      "needs_background": "light"
     },
     "output_type": "display_data"
    }
   ],
   "source": [
    "# Plot the waveform of the unit of interest\n",
    "plt.plot(waveform)"
   ]
  },
  {
   "cell_type": "code",
   "execution_count": 159,
   "metadata": {},
   "outputs": [],
   "source": [
    "# Get spikes from a neuron of interest\n",
    "spikes = nwbfile.units.get_unit_spike_times(s_ind)"
   ]
  },
  {
   "cell_type": "code",
   "execution_count": 160,
   "metadata": {},
   "outputs": [
    {
     "data": {
      "image/png": "[encoded data removed]",
      "text/plain": [
       "<Figure size 432x288 with 1 Axes>"
      ]
     },
     "metadata": {
      "needs_background": "light"
     },
     "output_type": "display_data"
    }
   ],
   "source": [
    "# Plot a raster of a series of spikes\n",
    "plt.eventplot(spikes[0:50])\n",
    "plt.axis('off');"
   ]
  },
  {
   "cell_type": "markdown",
   "metadata": {},
   "source": [
    "### Event Information"
   ]
  },
  {
   "cell_type": "code",
   "execution_count": 161,
   "metadata": {},
   "outputs": [
    {
     "data": {
      "text/plain": [
       "trials pynwb.epoch.TimeIntervals at 0x47812648043856\n",
       "Fields:\n",
       "  colnames: ['start_time' 'stop_time' 'stim_on_time' 'stim_off_time' 'delay1_time'\n",
       " 'delay2_time' 'stim_phase' 'stimCategory' 'category_name'\n",
       " 'external_image_file' 'new_old_labels_recog' 'response_value'\n",
       " 'response_time']\n",
       "  columns: (\n",
       "    start_time <class 'hdmf.common.table.VectorData'>,\n",
       "    stop_time <class 'hdmf.common.table.VectorData'>,\n",
       "    stim_on_time <class 'hdmf.common.table.VectorData'>,\n",
       "    stim_off_time <class 'hdmf.common.table.VectorData'>,\n",
       "    delay1_time <class 'hdmf.common.table.VectorData'>,\n",
       "    delay2_time <class 'hdmf.common.table.VectorData'>,\n",
       "    stim_phase <class 'hdmf.common.table.VectorData'>,\n",
       "    stimCategory <class 'hdmf.common.table.VectorData'>,\n",
       "    category_name <class 'hdmf.common.table.VectorData'>,\n",
       "    external_image_file <class 'hdmf.common.table.VectorData'>,\n",
       "    new_old_labels_recog <class 'hdmf.common.table.VectorData'>,\n",
       "    response_value <class 'hdmf.common.table.VectorData'>,\n",
       "    response_time <class 'hdmf.common.table.VectorData'>\n",
       "  )\n",
       "  description: experimental trials\n",
       "  id: id <class 'hdmf.common.table.ElementIdentifiers'>"
      ]
     },
     "execution_count": 161,
     "metadata": {},
     "output_type": "execute_result"
    }
   ],
   "source": [
    "# Check the encoding of event information in the NWB file\n",
    "nwbfile.intervals['trials']"
   ]
  },
  {
   "cell_type": "code",
   "execution_count": 162,
   "metadata": {},
   "outputs": [
    {
     "data": {
      "text/html": [
       "<div>\n",
       "<style scoped>\n",
       "    .dataframe tbody tr th:only-of-type {\n",
       "        vertical-align: middle;\n",
       "    }\n",
       "\n",
       "    .dataframe tbody tr th {\n",
       "        vertical-align: top;\n",
       "    }\n",
       "\n",
       "    .dataframe thead th {\n",
       "        text-align: right;\n",
       "    }\n",
       "</style>\n",
       "<table border=\"1\" class=\"dataframe\">\n",
       "  <thead>\n",
       "    <tr style=\"text-align: right;\">\n",
       "      <th></th>\n",
       "      <th>start_time</th>\n",
       "      <th>stop_time</th>\n",
       "      <th>stim_on_time</th>\n",
       "      <th>stim_off_time</th>\n",
       "      <th>delay1_time</th>\n",
       "      <th>delay2_time</th>\n",
       "      <th>stim_phase</th>\n",
       "      <th>stimCategory</th>\n",
       "      <th>category_name</th>\n",
       "      <th>external_image_file</th>\n",
       "      <th>new_old_labels_recog</th>\n",
       "      <th>response_value</th>\n",
       "      <th>response_time</th>\n",
       "    </tr>\n",
       "    <tr>\n",
       "      <th>id</th>\n",
       "      <th></th>\n",
       "      <th></th>\n",
       "      <th></th>\n",
       "      <th></th>\n",
       "      <th></th>\n",
       "      <th></th>\n",
       "      <th></th>\n",
       "      <th></th>\n",
       "      <th></th>\n",
       "      <th></th>\n",
       "      <th></th>\n",
       "      <th></th>\n",
       "      <th></th>\n",
       "    </tr>\n",
       "  </thead>\n",
       "  <tbody>\n",
       "    <tr>\n",
       "      <th>0</th>\n",
       "      <td>5850.331408</td>\n",
       "      <td>5854.419808</td>\n",
       "      <td>5850.331408</td>\n",
       "      <td>5851.335488</td>\n",
       "      <td>5851.836208</td>\n",
       "      <td>5854.419808</td>\n",
       "      <td>learn</td>\n",
       "      <td>5</td>\n",
       "      <td>smallAnimal</td>\n",
       "      <td>newolddelay\\smallAnimal\\7.jpg</td>\n",
       "      <td>NA</td>\n",
       "      <td>0.0</td>\n",
       "      <td>5853.420608</td>\n",
       "    </tr>\n",
       "    <tr>\n",
       "      <th>1</th>\n",
       "      <td>5854.557488</td>\n",
       "      <td>5858.135168</td>\n",
       "      <td>5854.557488</td>\n",
       "      <td>5855.551568</td>\n",
       "      <td>5856.052208</td>\n",
       "      <td>5858.135168</td>\n",
       "      <td>learn</td>\n",
       "      <td>4</td>\n",
       "      <td>phones</td>\n",
       "      <td>newolddelay\\phones\\34.jpg</td>\n",
       "      <td>NA</td>\n",
       "      <td>1.0</td>\n",
       "      <td>5857.137208</td>\n",
       "    </tr>\n",
       "    <tr>\n",
       "      <th>2</th>\n",
       "      <td>5858.237848</td>\n",
       "      <td>5864.684688</td>\n",
       "      <td>5858.237848</td>\n",
       "      <td>5859.236888</td>\n",
       "      <td>5859.737608</td>\n",
       "      <td>5864.684688</td>\n",
       "      <td>learn</td>\n",
       "      <td>2</td>\n",
       "      <td>landscapes</td>\n",
       "      <td>newolddelay\\landscapes\\31.jpg</td>\n",
       "      <td>NA</td>\n",
       "      <td>1.0</td>\n",
       "      <td>5863.686528</td>\n",
       "    </tr>\n",
       "    <tr>\n",
       "      <th>3</th>\n",
       "      <td>5864.813608</td>\n",
       "      <td>5869.041048</td>\n",
       "      <td>5864.813608</td>\n",
       "      <td>5865.816488</td>\n",
       "      <td>5866.317208</td>\n",
       "      <td>5869.041048</td>\n",
       "      <td>learn</td>\n",
       "      <td>3</td>\n",
       "      <td>mobility</td>\n",
       "      <td>newolddelay\\mobility\\30.jpg</td>\n",
       "      <td>NA</td>\n",
       "      <td>1.0</td>\n",
       "      <td>5868.038848</td>\n",
       "    </tr>\n",
       "    <tr>\n",
       "      <th>4</th>\n",
       "      <td>5869.181048</td>\n",
       "      <td>5872.305808</td>\n",
       "      <td>5869.181048</td>\n",
       "      <td>5870.182848</td>\n",
       "      <td>5870.683568</td>\n",
       "      <td>5872.305808</td>\n",
       "      <td>learn</td>\n",
       "      <td>3</td>\n",
       "      <td>mobility</td>\n",
       "      <td>newolddelay\\mobility\\13.jpg</td>\n",
       "      <td>NA</td>\n",
       "      <td>1.0</td>\n",
       "      <td>5871.304608</td>\n",
       "    </tr>\n",
       "  </tbody>\n",
       "</table>\n",
       "</div>"
      ],
      "text/plain": [
       "     start_time    stop_time  stim_on_time  stim_off_time  delay1_time  \\\n",
       "id                                                                       \n",
       "0   5850.331408  5854.419808   5850.331408    5851.335488  5851.836208   \n",
       "1   5854.557488  5858.135168   5854.557488    5855.551568  5856.052208   \n",
       "2   5858.237848  5864.684688   5858.237848    5859.236888  5859.737608   \n",
       "3   5864.813608  5869.041048   5864.813608    5865.816488  5866.317208   \n",
       "4   5869.181048  5872.305808   5869.181048    5870.182848  5870.683568   \n",
       "\n",
       "    delay2_time stim_phase  stimCategory category_name  \\\n",
       "id                                                       \n",
       "0   5854.419808      learn             5   smallAnimal   \n",
       "1   5858.135168      learn             4        phones   \n",
       "2   5864.684688      learn             2    landscapes   \n",
       "3   5869.041048      learn             3      mobility   \n",
       "4   5872.305808      learn             3      mobility   \n",
       "\n",
       "              external_image_file new_old_labels_recog  response_value  \\\n",
       "id                                                                       \n",
       "0   newolddelay\\smallAnimal\\7.jpg                   NA             0.0   \n",
       "1       newolddelay\\phones\\34.jpg                   NA             1.0   \n",
       "2   newolddelay\\landscapes\\31.jpg                   NA             1.0   \n",
       "3     newolddelay\\mobility\\30.jpg                   NA             1.0   \n",
       "4     newolddelay\\mobility\\13.jpg                   NA             1.0   \n",
       "\n",
       "    response_time  \n",
       "id                 \n",
       "0     5853.420608  \n",
       "1     5857.137208  \n",
       "2     5863.686528  \n",
       "3     5868.038848  \n",
       "4     5871.304608  "
      ]
     },
     "execution_count": 162,
     "metadata": {},
     "output_type": "execute_result"
    }
   ],
   "source": [
    "# Check the behavioural information as a dataframe\n",
    "behav = nwbfile.trials.to_dataframe()\n",
    "behav.head()"
   ]
  },
  {
   "cell_type": "code",
   "execution_count": 163,
   "metadata": {},
   "outputs": [
    {
     "data": {
      "text/plain": [
       "{'houses', 'landscapes', 'mobility', 'phones', 'smallAnimal'}"
      ]
     },
     "execution_count": 163,
     "metadata": {},
     "output_type": "execute_result"
    }
   ],
   "source": [
    "# Check the available image conditions\n",
    "set(nwbfile.intervals['trials'].category_name.data[:])"
   ]
  },
  {
   "cell_type": "code",
   "execution_count": 164,
   "metadata": {},
   "outputs": [],
   "source": [
    "# Get the stimulus presentation times\n",
    "stim_ons = nwbfile.intervals['trials']['stim_on_time'][:]\n",
    "stim_offs = nwbfile.intervals['trials']['stim_off_time'][:]"
   ]
  },
  {
   "cell_type": "code",
   "execution_count": 165,
   "metadata": {},
   "outputs": [],
   "source": [
    "# Get the stimulus onset times for a stimulus category of interest\n",
    "cond = 'phones'\n",
    "cond_stim_times = behav[behav.category_name == cond].stim_on_time.values"
   ]
  },
  {
   "cell_type": "markdown",
   "metadata": {},
   "source": [
    "### Task Related Activity"
   ]
  },
  {
   "cell_type": "code",
   "execution_count": 207,
   "metadata": {},
   "outputs": [],
   "source": [
    "def get_trial_spikes(spikes, trial_times, window=1):\n",
    "    \"\"\"Compute the average difference in spike firing pre vs post time point of interest.\"\"\"\n",
    "    \n",
    "    trial_spikes = []\n",
    "    for trial_time in trial_times:\n",
    "        temp = get_spike_time_range(spikes, trial_time - window, trial_time + window)\n",
    "        trial_spikes.append(temp - trial_time)\n",
    "        \n",
    "    return trial_spikes"
   ]
  },
  {
   "cell_type": "code",
   "execution_count": 208,
   "metadata": {},
   "outputs": [],
   "source": [
    "# Extract spikes for a unit of interest\n",
    "s_ind = 0\n",
    "spikes = nwbfile.units.get_unit_spike_times(s_ind)"
   ]
  },
  {
   "cell_type": "code",
   "execution_count": 213,
   "metadata": {},
   "outputs": [],
   "source": [
    "# Collect spikes by trial\n",
    "trial_spikes = get_trial_spikes(spikes, cond_stim_times)"
   ]
  },
  {
   "cell_type": "code",
   "execution_count": 214,
   "metadata": {},
   "outputs": [
    {
     "data": {
      "image/png": "[encoded data removed]",
      "text/plain": [
       "<Figure size 432x288 with 1 Axes>"
      ]
     },
     "metadata": {
      "needs_background": "light"
     },
     "output_type": "display_data"
    }
   ],
   "source": [
    "# Plot the event-related raster plots\n",
    "plt.eventplot(trial_spikes);\n",
    "plt.vlines(0, -1, len(trial_spikes) + 1, color='green', alpha=0.75);\n",
    "plt.xlim([-1, 1])\n",
    "plt.axis('off');"
   ]
  },
  {
   "cell_type": "markdown",
   "metadata": {},
   "source": [
    "#### Statistical Tests\n",
    "\n",
    "In the above, we have organized our data in order to visualize if there appear to be object related changes in neuron activity. \n",
    "\n",
    "Here, we will take a very simple (non-ideal) test to get a sense of if there is a significant change in firing: a paired t-test on pre & post firing. "
   ]
  },
  {
   "cell_type": "code",
   "execution_count": 216,
   "metadata": {},
   "outputs": [],
   "source": [
    "# Reconstruct number of pre & post stim neurons\n",
    "n_pre, n_post = [], []\n",
    "for trial in trial_spikes:\n",
    "    n_pre.append(sum(trial < 0))\n",
    "    n_post.append(sum(trial > 0))"
   ]
  },
  {
   "cell_type": "code",
   "execution_count": 212,
   "metadata": {},
   "outputs": [
    {
     "data": {
      "text/plain": [
       "Ttest_relResult(statistic=-1.3254270092150517, pvalue=0.1927419495036985)"
      ]
     },
     "execution_count": 212,
     "metadata": {},
     "output_type": "execute_result"
    }
   ],
   "source": [
    "# Check for a significant change in firing\n",
    "ttest_rel(n_pre, n_post)"
   ]
  },
  {
   "cell_type": "markdown",
   "metadata": {},
   "source": [
    "### Object Dataset: Possible Extensions\n",
    "\n",
    "So far we explored a simple way to examine if there might be object related activity in the dataset, with simple visualizations and statistical approaches. "
   ]
  },
  {
   "cell_type": "markdown",
   "metadata": {},
   "source": [
    "## Second Dataset: Spatial Navigation\n",
    "\n",
    "We will primarily be analyzing data from the Train task (which Josh covered in his talk).\n",
    "For reference for this task, see the [associated paper](https://www.nature.com/articles/s41593-019-0523-z).\n",
    "\n",
    "In this section we will go over some simple single neuron analyses with respect to spatial position and memory. "
   ]
  },
  {
   "cell_type": "code",
   "execution_count": 11,
   "metadata": {},
   "outputs": [],
   "source": [
    "# Load data file\n",
    "file_name = 'spatial_data.nwb'\n",
    "io = NWBHDF5IO('data/' + file_name, 'r')\n",
    "nwbfile = io.read()"
   ]
  },
  {
   "cell_type": "code",
   "execution_count": 12,
   "metadata": {},
   "outputs": [
    {
     "name": "stdout",
     "output_type": "stream",
     "text": [
      "23\n"
     ]
    }
   ],
   "source": [
    "# Check how many units in the current file\n",
    "n_units = len(nwbfile.units)\n",
    "print(n_units)"
   ]
  },
  {
   "cell_type": "code",
   "execution_count": 13,
   "metadata": {},
   "outputs": [],
   "source": [
    "# Set index to access a unit of interest\n",
    "s_ind = 0"
   ]
  },
  {
   "cell_type": "code",
   "execution_count": 103,
   "metadata": {},
   "outputs": [],
   "source": [
    "# Extract spikes for the unit of interest\n",
    "spikes = nwbfile.units.get_unit_spike_times(s_ind)"
   ]
  },
  {
   "cell_type": "markdown",
   "metadata": {},
   "source": [
    "### Helper Functions"
   ]
  },
  {
   "cell_type": "code",
   "execution_count": 85,
   "metadata": {},
   "outputs": [],
   "source": [
    "def compute_spike_rate(spikes):\n",
    "    \"\"\"Estimate spike rate from a vector of spike times, in seconds.\"\"\"\n",
    "    \n",
    "    return len(spikes) / (spikes[-1] - spikes[0])\n",
    "\n",
    "def get_spike_time_range(spikes, tmin, tmax):\n",
    "    \"\"\"Extract spike times for a particular time range.\"\"\"\n",
    "    \n",
    "    return spikes[np.squeeze(np.logical_and([spikes > tmin], [spikes < tmax]))]"
   ]
  },
  {
   "cell_type": "markdown",
   "metadata": {},
   "source": [
    "### Descriptive Explorations"
   ]
  },
  {
   "cell_type": "markdown",
   "metadata": {},
   "source": [
    "#### Firing Rate"
   ]
  },
  {
   "cell_type": "code",
   "execution_count": 86,
   "metadata": {},
   "outputs": [],
   "source": [
    "# Compute the firing rate of the neuron\n",
    "fr = compute_spike_rate(spikes) * 1000"
   ]
  },
  {
   "cell_type": "code",
   "execution_count": 90,
   "metadata": {},
   "outputs": [
    {
     "name": "stdout",
     "output_type": "stream",
     "text": [
      "The firing rate is: 11.93\n"
     ]
    }
   ],
   "source": [
    "# Check the firing rate of the unit of interest\n",
    "print('The firing rate is: {:2.2f}'.format(fr))"
   ]
  },
  {
   "cell_type": "code",
   "execution_count": 91,
   "metadata": {},
   "outputs": [],
   "source": [
    "# Compute the firing rate for all neurons\n",
    "frs = [compute_spike_rate(nwbfile.units.get_unit_spike_times(ind)) * 1000 \\\n",
    "    for ind in range(n_units)]"
   ]
  },
  {
   "cell_type": "code",
   "execution_count": 93,
   "metadata": {},
   "outputs": [
    {
     "data": {
      "text/plain": [
       "<BarContainer object of 23 artists>"
      ]
     },
     "execution_count": 93,
     "metadata": {},
     "output_type": "execute_result"
    },
    {
     "data": {
      "image/png": "[encoded data removed]",
      "text/plain": [
       "<Figure size 1440x360 with 1 Axes>"
      ]
     },
     "metadata": {
      "needs_background": "light"
     },
     "output_type": "display_data"
    }
   ],
   "source": [
    "# Plot the firing rate for all neurons\n",
    "labels = ['U' + str(ind) for ind in range(len(frs))]\n",
    "_, ax = plt.subplots(figsize=(20, 5))\n",
    "ax.bar(labels, frs)"
   ]
  },
  {
   "cell_type": "markdown",
   "metadata": {},
   "source": [
    "This tells you how active, in general, each neuron was during the recording session. "
   ]
  },
  {
   "cell_type": "markdown",
   "metadata": {},
   "source": [
    "#### Inter-Spike Interval\n",
    "\n",
    "One way to assess spiking activity is to look at the time interval between each spike (aka the **interspike interval**). "
   ]
  },
  {
   "cell_type": "code",
   "execution_count": 94,
   "metadata": {},
   "outputs": [],
   "source": [
    "# Compute ISI for a single neuron\n",
    "isi = np.diff(np.array(spikes))"
   ]
  },
  {
   "cell_type": "code",
   "execution_count": 95,
   "metadata": {},
   "outputs": [
    {
     "data": {
      "text/plain": [
       "Text(0, 0.5, 'density')"
      ]
     },
     "execution_count": 95,
     "metadata": {},
     "output_type": "execute_result"
    },
    {
     "data": {
      "image/png": "[encoded data removed]",
      "text/plain": [
       "<Figure size 432x288 with 1 Axes>"
      ]
     },
     "metadata": {
      "needs_background": "light"
     },
     "output_type": "display_data"
    }
   ],
   "source": [
    "# Plot the inter-spike intervals\n",
    "sns.distplot(isi)\n",
    "plt.xlabel('ISI (ms)')\n",
    "plt.ylabel('density')"
   ]
  },
  {
   "cell_type": "markdown",
   "metadata": {},
   "source": [
    "#### Coefficient of Variation\n",
    "\n",
    "\n",
    "The CV does not capture potential variability on longer time scales especially if there's drift in the neuron's mean firing rate over time. A measure of spike time variability taking this long-term variability into account is the Fano factor, the ratio of the mean spike count and the variance the spike count within a time window. We will compute that a little later."
   ]
  },
  {
   "cell_type": "markdown",
   "metadata": {},
   "source": [
    "Another useful thing that ISI distribution can tell you is if the neuron you are looking at is a **bursty** neuron. By that, I mean a neuron that tends to fire a lot of action potentials in short bursts, rather than as isolated single spikes. As you can imagine, bursty neurons tend to violate Poisson assumptions and have ISI distributions that look a little more bimodal, with lots of spikes close together, and lots of bursts far apart. But that is a good segue into......"
   ]
  },
  {
   "cell_type": "code",
   "execution_count": 21,
   "metadata": {},
   "outputs": [],
   "source": [
    "# Compute coefficient of variation\n",
    "cv = np.std(isi) / np.mean(isi)"
   ]
  },
  {
   "cell_type": "code",
   "execution_count": 22,
   "metadata": {},
   "outputs": [
    {
     "name": "stdout",
     "output_type": "stream",
     "text": [
      "1.1425758665939532\n"
     ]
    }
   ],
   "source": [
    "# Check the computed CV\n",
    "print(cv)"
   ]
  },
  {
   "cell_type": "markdown",
   "metadata": {},
   "source": [
    "### Data Representations\n",
    "\n",
    "Now let's explore some different ways to represent the data.\n",
    "\n",
    "#### Spike Times\n",
    "\n",
    "....\n",
    "\n",
    "#### Spike Trains\n",
    "\n",
    "...\n",
    "\n",
    "#### Continuous Firing Rates\n",
    "\n",
    "Before we go any further, let's look at some spike trains. We didn't do this before because we didn't know when the task started and stopped - now we do, and can define a spike train using the spikes that happened during the task."
   ]
  },
  {
   "cell_type": "code",
   "execution_count": 23,
   "metadata": {},
   "outputs": [],
   "source": [
    "#nwbfile.intervals"
   ]
  },
  {
   "cell_type": "code",
   "execution_count": 24,
   "metadata": {},
   "outputs": [],
   "source": [
    "# Settings\n",
    "bin_width_st = 1   # this means our time resolution is 1 ms - sufficient for spike train generation and analysis \n",
    "st_sr = 1000       # This is our sampling rate "
   ]
  },
  {
   "cell_type": "code",
   "execution_count": 25,
   "metadata": {},
   "outputs": [],
   "source": [
    "# \n",
    "times = nwbfile.acquisition['position']['position'].timestamps[:]\n",
    "start, end = times[0], times[-1]"
   ]
  },
  {
   "cell_type": "code",
   "execution_count": 26,
   "metadata": {},
   "outputs": [],
   "source": [
    "# # Let's make a spike train of spikes during the task\n",
    "st = spikes\n",
    "\n",
    "# # # find the indices corresponding to spikes during the task\n",
    "#a1, a2 = (116922.44817708334, 2284469.5921875)\n",
    "st_to_keep = np.where(np.logical_and(st>=start, st<=end))[0].astype(int)\n",
    "\n",
    "# # # we can baseline the spikes to the start of the task for generating a spike train \n",
    "st_baselined = st[st_to_keep] - start\n",
    "\n",
    "ms_ix = np.arange(start, end + np.diff(times)[0], bin_width_st) - start\n",
    "\n",
    "# # # spike times are in ms, but are sampled at 30 KHz meaning  we have to round them to ms resolution\n",
    "rounded_spike_times = np.round(st_baselined).astype(int)\n",
    "\n",
    "# # # generate a spike train - a binary vector of 0's and 1's that is indexed by the spike times. Remember the bin width is 1 ms \n",
    "spiketrain = np.zeros(len(ms_ix))\n",
    "\n",
    "# # # note we have to subtract 1 for pythonic indexing\n",
    "spiketrain[rounded_spike_times - 1] = 1 "
   ]
  },
  {
   "cell_type": "code",
   "execution_count": 27,
   "metadata": {},
   "outputs": [
    {
     "data": {
      "text/plain": [
       "[<matplotlib.lines.Line2D at 0x2b7c1dba8190>]"
      ]
     },
     "execution_count": 27,
     "metadata": {},
     "output_type": "execute_result"
    },
    {
     "data": {
      "image/png": "[encoded data removed]",
      "text/plain": [
       "<Figure size 432x288 with 1 Axes>"
      ]
     },
     "metadata": {
      "needs_background": "light"
     },
     "output_type": "display_data"
    }
   ],
   "source": [
    "plt.plot(spiketrain[0:1000])"
   ]
  },
  {
   "cell_type": "code",
   "execution_count": 28,
   "metadata": {},
   "outputs": [
    {
     "name": "stdout",
     "output_type": "stream",
     "text": [
      "This cell has a Fano factor of 0.9879246999512845\n"
     ]
    }
   ],
   "source": [
    "# Now we can compute the Fano Factor, which requires the spike train , during the task\n",
    "fano_factor = np.var(spiketrain) / np.mean(spiketrain)\n",
    "print('This cell has a Fano factor of {}'.format(fano_factor))"
   ]
  },
  {
   "cell_type": "markdown",
   "metadata": {},
   "source": [
    "One of the key reasons to define a spike train is so that we can smooth it to get a continuous **estimate** of spiking. We do this by convolving the spike train with a Gaussian kernel."
   ]
  },
  {
   "cell_type": "code",
   "execution_count": 29,
   "metadata": {},
   "outputs": [],
   "source": [
    "# Continuous firing rate parameters\n",
    "bin_width_gauss = 10 # ms. set a wider bin width so we dont have a SUPER LONG vector! \n",
    "gauss_sr = int(1000 / bin_width_gauss)"
   ]
  },
  {
   "cell_type": "code",
   "execution_count": null,
   "metadata": {},
   "outputs": [],
   "source": []
  },
  {
   "cell_type": "code",
   "execution_count": 30,
   "metadata": {},
   "outputs": [],
   "source": [
    "times_offset = times - times[0]\n",
    "\n",
    "# make the bins \n",
    "binnedTime = np.arange(times_offset[0], times_offset[-1] + np.diff(times_offset)[0], bin_width_gauss)\n",
    "\n",
    "# initialize the array\n",
    "spkt = np.zeros(binnedTime.shape)\n",
    "\n",
    "# Map the spike times to bins.\n",
    "map_to_bins = np.digitize(st_baselined, binnedTime)\n",
    "for i in map_to_bins:\n",
    "    if i > 0:\n",
    "        spkt[i - 1] += 1"
   ]
  },
  {
   "cell_type": "code",
   "execution_count": 31,
   "metadata": {},
   "outputs": [],
   "source": [
    "# Define a window to filter in \n",
    "filt_window = np.arange(-1000, 1000, bin_width_gauss)\n",
    "\n",
    "# factor to convert the convovled firing rate into Hz (spikes/second)\n",
    "conv_rate_gaussian_fr = 1/(bin_width_gauss/1000) \n",
    "\n",
    "# Mess around with the std of the gaussian kernel - see how it changes the firing rate estimate \n",
    "smoothing_width = 75 # ms \n",
    "\n",
    "# Define the gaussian kernel\n",
    "gaussian_kernel = 1. / np.sqrt(2 * np.pi * smoothing_width ** 2) * np.exp(\n",
    "    -filt_window ** 2. / (2 * smoothing_width ** 2))\n",
    "\n",
    "# Normalize the kernel so that the area sums to 1\n",
    "gaussian_kernel =  gaussian_kernel / gaussian_kernel.sum()\n",
    "\n",
    "# Do the smoothing! \n",
    "spkt_conv = conv_rate_gaussian_fr * fftconvolve(spkt, gaussian_kernel, 'same') "
   ]
  },
  {
   "cell_type": "code",
   "execution_count": 32,
   "metadata": {},
   "outputs": [
    {
     "data": {
      "text/plain": [
       "[<matplotlib.lines.Line2D at 0x2b7c1e1e6b10>]"
      ]
     },
     "execution_count": 32,
     "metadata": {},
     "output_type": "execute_result"
    },
    {
     "data": {
      "image/png": "[encoded data removed]",
      "text/plain": [
       "<Figure size 1296x216 with 2 Axes>"
      ]
     },
     "metadata": {
      "needs_background": "light"
     },
     "output_type": "display_data"
    }
   ],
   "source": [
    "f, (gauss, train) = plt.subplots(2, 1, figsize=[18,3])\n",
    "\n",
    "# Plot 100 s of data\n",
    "time_win = 100\n",
    "gauss.plot(spkt_conv[0:(time_win*gauss_sr)])\n",
    "train.plot(spiketrain[0:(time_win*st_sr)], linewidth=0.2)"
   ]
  },
  {
   "cell_type": "markdown",
   "metadata": {},
   "source": [
    "Having done all this table setting, let's look at how neural spiking changes in relation to task events. In general, the most useful tool for visualizing stimulus-related changes in the firing rate is the **peri-event rasters and histograms**. \n",
    "\n",
    "First, we have to do some data wrangling. The events here are not organized by trial/event, so we need to do that, then use our baselined spikes and the timesoffset field to parse the spiking the same way. "
   ]
  },
  {
   "cell_type": "code",
   "execution_count": 35,
   "metadata": {},
   "outputs": [],
   "source": [
    "## TASK ANALYSIS"
   ]
  },
  {
   "cell_type": "code",
   "execution_count": 49,
   "metadata": {},
   "outputs": [
    {
     "name": "stderr",
     "output_type": "stream",
     "text": [
      "/home1/tom.donoghue/.conda/envs/eeg/lib/python3.7/site-packages/ipykernel_launcher.py:8: RuntimeWarning: invalid value encountered in greater_equal\n",
      "  \n",
      "/home1/tom.donoghue/.conda/envs/eeg/lib/python3.7/site-packages/ipykernel_launcher.py:9: RuntimeWarning: invalid value encountered in less_equal\n",
      "  if __name__ == '__main__':\n"
     ]
    }
   ],
   "source": [
    "all_response_times = nwbfile.intervals['trials'].response_time.data[:]\n",
    "\n",
    "time_window = [-500, 500]\n",
    "\n",
    "# grab the spikes surrounding each stimulus \n",
    "spike_times_per_event = [] \n",
    "for response in all_response_times:\n",
    "    st_to_keep_event = np.where(np.logical_and(st_baselined >= response + time_window[0], \n",
    "                                               st_baselined <= response + time_window[1]))[0].astype(int)\n",
    "    spike_times_per_event.append(st_baselined[st_to_keep_event] - response)"
   ]
  },
  {
   "cell_type": "code",
   "execution_count": 55,
   "metadata": {},
   "outputs": [
    {
     "name": "stderr",
     "output_type": "stream",
     "text": [
      "/home1/tom.donoghue/.conda/envs/eeg/lib/python3.7/site-packages/ipykernel_launcher.py:20: UserWarning: FixedFormatter should only be used together with FixedLocator\n"
     ]
    },
    {
     "data": {
      "text/plain": [
       "<matplotlib.collections.LineCollection at 0x2b7c34290ed0>"
      ]
     },
     "execution_count": 55,
     "metadata": {},
     "output_type": "execute_result"
    },
    {
     "data": {
      "image/png": "[encoded data removed]",
      "text/plain": [
       "<Figure size 432x432 with 2 Axes>"
      ]
     },
     "metadata": {
      "needs_background": "light"
     },
     "output_type": "display_data"
    }
   ],
   "source": [
    "f, (raster, spike_hist) = plt.subplots(2, 1, figsize=[6,6])\n",
    "\n",
    "# Plot the raster\n",
    "trial = 1\n",
    "for row in spike_times_per_event: \n",
    "    raster.vlines(row, trial, trial+1)\n",
    "    trial += 1\n",
    "raster.vlines(0, 0, trial)\n",
    "\n",
    "# Compute the histogram in 50 ms bins\n",
    "bin_width_ms = 50 \n",
    "n_bins = int(1000 / bin_width_ms)\n",
    "H, b = np.histogram(np.hstack(spike_times_per_event), n_bins)\n",
    "rate_factor = (bin_width_ms * len(nwbfile.intervals['trials']) / 1000)\n",
    "\n",
    "sns.distplot(np.hstack(spike_times_per_event), bins=n_bins, kde=False, ax=spike_hist)\n",
    "# Scale the y-axis so we are plotting firing rate in our bins, not just counts of spikes \n",
    "y_vals = spike_hist.get_yticks()\n",
    "spike_hist.set_yticklabels(['{:3.1f}'.format(x/rate_factor) for x in y_vals])\n",
    "spike_hist.vlines(0, 0, y_vals.max())"
   ]
  },
  {
   "cell_type": "code",
   "execution_count": null,
   "metadata": {},
   "outputs": [],
   "source": []
  },
  {
   "cell_type": "code",
   "execution_count": null,
   "metadata": {},
   "outputs": [],
   "source": []
  },
  {
   "cell_type": "markdown",
   "metadata": {},
   "source": [
    "How do we do statistics for a PSTH? We won't cover that in specific detail here. But pay attention when you do problem #4 in the Assignments as the permutation statistics you do there will be very similar to what you might do for as PSTH. Broadly, you can either:\n",
    "\n",
    "1) Identify specific times of increased firing: Generate surrogate PSTHs (i.e. 500 null observations per time bin). Compute a p-value for every bin. Do multiple comparisons correction across time bins. Are any time bins significantly higher/lower than surrogates? \n",
    "\n",
    "2) Compute mean firing rate pre and post and do a paired t-test. \n"
   ]
  },
  {
   "cell_type": "code",
   "execution_count": null,
   "metadata": {},
   "outputs": [],
   "source": []
  },
  {
   "cell_type": "markdown",
   "metadata": {},
   "source": [
    "### PLACE ENCODING"
   ]
  },
  {
   "cell_type": "markdown",
   "metadata": {},
   "source": [
    "Now we want to do the spicy stuff: looking at neural activity as a function of position.\n",
    "\n",
    "Up until this point, we have been binning spike counts by **time**. Now it's time to bin spike counts by **position**.\n",
    "\n",
    "The easiest way to do this is to utilize pandas dataframe functionality, particularly the ```cut``` function to cut data into bins and the  ```groupby``` function to apply a function to these split data. "
   ]
  },
  {
   "cell_type": "code",
   "execution_count": 69,
   "metadata": {},
   "outputs": [],
   "source": []
  },
  {
   "cell_type": "code",
   "execution_count": 78,
   "metadata": {},
   "outputs": [],
   "source": [
    "# ...\n",
    "position = nwbfile.acquisition['position']['position']\n",
    "times = position.timestamps\n",
    "pos = position.data"
   ]
  },
  {
   "cell_type": "code",
   "execution_count": 117,
   "metadata": {},
   "outputs": [],
   "source": [
    "# Cut the environment into spatial bins, also collecting the bin edges\n",
    "n_spatial_bins = 20\n",
    "spatial_bins, bin_edges = pd.cut(pos[:], bins=n_spatial_bins, retbins=True,\n",
    "                                 include_lowest=True, labels=np.arange(n_spatial_bins))"
   ]
  },
  {
   "cell_type": "code",
   "execution_count": null,
   "metadata": {},
   "outputs": [],
   "source": []
  },
  {
   "cell_type": "code",
   "execution_count": 104,
   "metadata": {},
   "outputs": [],
   "source": [
    "# \n",
    "data_df = pd.read_csv('data/spatial_dataframe.csv')"
   ]
  },
  {
   "cell_type": "code",
   "execution_count": 105,
   "metadata": {},
   "outputs": [
    {
     "data": {
      "text/html": [
       "<div>\n",
       "<style scoped>\n",
       "    .dataframe tbody tr th:only-of-type {\n",
       "        vertical-align: middle;\n",
       "    }\n",
       "\n",
       "    .dataframe tbody tr th {\n",
       "        vertical-align: top;\n",
       "    }\n",
       "\n",
       "    .dataframe thead th {\n",
       "        text-align: right;\n",
       "    }\n",
       "</style>\n",
       "<table border=\"1\" class=\"dataframe\">\n",
       "  <thead>\n",
       "    <tr style=\"text-align: right;\">\n",
       "      <th></th>\n",
       "      <th>Unnamed: 0</th>\n",
       "      <th>position</th>\n",
       "      <th>spatial_bin</th>\n",
       "      <th>object_ID</th>\n",
       "      <th>object_bin</th>\n",
       "      <th>fr</th>\n",
       "      <th>trial</th>\n",
       "      <th>subject</th>\n",
       "    </tr>\n",
       "  </thead>\n",
       "  <tbody>\n",
       "    <tr>\n",
       "      <th>0</th>\n",
       "      <td>0</td>\n",
       "      <td>-33.970167</td>\n",
       "      <td>0</td>\n",
       "      <td>barrel</td>\n",
       "      <td>4</td>\n",
       "      <td>20</td>\n",
       "      <td>1</td>\n",
       "      <td>1</td>\n",
       "    </tr>\n",
       "    <tr>\n",
       "      <th>1</th>\n",
       "      <td>1</td>\n",
       "      <td>-33.835283</td>\n",
       "      <td>0</td>\n",
       "      <td>barrel</td>\n",
       "      <td>4</td>\n",
       "      <td>10</td>\n",
       "      <td>1</td>\n",
       "      <td>1</td>\n",
       "    </tr>\n",
       "    <tr>\n",
       "      <th>2</th>\n",
       "      <td>2</td>\n",
       "      <td>-33.584817</td>\n",
       "      <td>0</td>\n",
       "      <td>barrel</td>\n",
       "      <td>4</td>\n",
       "      <td>30</td>\n",
       "      <td>1</td>\n",
       "      <td>1</td>\n",
       "    </tr>\n",
       "    <tr>\n",
       "      <th>3</th>\n",
       "      <td>3</td>\n",
       "      <td>-33.217183</td>\n",
       "      <td>0</td>\n",
       "      <td>barrel</td>\n",
       "      <td>4</td>\n",
       "      <td>30</td>\n",
       "      <td>1</td>\n",
       "      <td>1</td>\n",
       "    </tr>\n",
       "    <tr>\n",
       "      <th>4</th>\n",
       "      <td>4</td>\n",
       "      <td>-32.736283</td>\n",
       "      <td>0</td>\n",
       "      <td>barrel</td>\n",
       "      <td>4</td>\n",
       "      <td>10</td>\n",
       "      <td>1</td>\n",
       "      <td>1</td>\n",
       "    </tr>\n",
       "    <tr>\n",
       "      <th>...</th>\n",
       "      <td>...</td>\n",
       "      <td>...</td>\n",
       "      <td>...</td>\n",
       "      <td>...</td>\n",
       "      <td>...</td>\n",
       "      <td>...</td>\n",
       "      <td>...</td>\n",
       "      <td>...</td>\n",
       "    </tr>\n",
       "    <tr>\n",
       "      <th>7649</th>\n",
       "      <td>7649</td>\n",
       "      <td>29.248400</td>\n",
       "      <td>18</td>\n",
       "      <td>desk</td>\n",
       "      <td>7</td>\n",
       "      <td>0</td>\n",
       "      <td>64</td>\n",
       "      <td>1</td>\n",
       "    </tr>\n",
       "    <tr>\n",
       "      <th>7650</th>\n",
       "      <td>7650</td>\n",
       "      <td>30.118150</td>\n",
       "      <td>18</td>\n",
       "      <td>desk</td>\n",
       "      <td>7</td>\n",
       "      <td>0</td>\n",
       "      <td>64</td>\n",
       "      <td>1</td>\n",
       "    </tr>\n",
       "    <tr>\n",
       "      <th>7651</th>\n",
       "      <td>7651</td>\n",
       "      <td>30.887517</td>\n",
       "      <td>18</td>\n",
       "      <td>desk</td>\n",
       "      <td>7</td>\n",
       "      <td>20</td>\n",
       "      <td>64</td>\n",
       "      <td>1</td>\n",
       "    </tr>\n",
       "    <tr>\n",
       "      <th>7652</th>\n",
       "      <td>7652</td>\n",
       "      <td>31.569600</td>\n",
       "      <td>19</td>\n",
       "      <td>desk</td>\n",
       "      <td>7</td>\n",
       "      <td>0</td>\n",
       "      <td>64</td>\n",
       "      <td>1</td>\n",
       "    </tr>\n",
       "    <tr>\n",
       "      <th>7653</th>\n",
       "      <td>7653</td>\n",
       "      <td>32.174733</td>\n",
       "      <td>19</td>\n",
       "      <td>desk</td>\n",
       "      <td>7</td>\n",
       "      <td>0</td>\n",
       "      <td>64</td>\n",
       "      <td>1</td>\n",
       "    </tr>\n",
       "  </tbody>\n",
       "</table>\n",
       "<p>7654 rows × 8 columns</p>\n",
       "</div>"
      ],
      "text/plain": [
       "      Unnamed: 0   position  spatial_bin object_ID  object_bin  fr  trial  \\\n",
       "0              0 -33.970167            0    barrel           4  20      1   \n",
       "1              1 -33.835283            0    barrel           4  10      1   \n",
       "2              2 -33.584817            0    barrel           4  30      1   \n",
       "3              3 -33.217183            0    barrel           4  30      1   \n",
       "4              4 -32.736283            0    barrel           4  10      1   \n",
       "...          ...        ...          ...       ...         ...  ..    ...   \n",
       "7649        7649  29.248400           18      desk           7   0     64   \n",
       "7650        7650  30.118150           18      desk           7   0     64   \n",
       "7651        7651  30.887517           18      desk           7  20     64   \n",
       "7652        7652  31.569600           19      desk           7   0     64   \n",
       "7653        7653  32.174733           19      desk           7   0     64   \n",
       "\n",
       "      subject  \n",
       "0           1  \n",
       "1           1  \n",
       "2           1  \n",
       "3           1  \n",
       "4           1  \n",
       "...       ...  \n",
       "7649        1  \n",
       "7650        1  \n",
       "7651        1  \n",
       "7652        1  \n",
       "7653        1  \n",
       "\n",
       "[7654 rows x 8 columns]"
      ]
     },
     "execution_count": 105,
     "metadata": {},
     "output_type": "execute_result"
    }
   ],
   "source": [
    "data_df"
   ]
  },
  {
   "cell_type": "code",
   "execution_count": 106,
   "metadata": {},
   "outputs": [
    {
     "data": {
      "text/plain": [
       "<AxesSubplot:xlabel='spatial_bin', ylabel='fr'>"
      ]
     },
     "execution_count": 106,
     "metadata": {},
     "output_type": "execute_result"
    },
    {
     "data": {
      "image/png": "[encoded data removed]",
      "text/plain": [
       "<Figure size 432x288 with 1 Axes>"
      ]
     },
     "metadata": {
      "needs_background": "light"
     },
     "output_type": "display_data"
    }
   ],
   "source": [
    "# Compute the actual spatially binned firing rate by averaging the firing rate over each bin \n",
    "spatially_binned_fr = data_df.groupby(by='spatial_bin').mean()\n",
    "# Plot\n",
    "sns.lineplot(x='spatial_bin', y='fr', data=data_df, ci=68) # Note that seaborn does the groupby().mean() itself "
   ]
  },
  {
   "cell_type": "code",
   "execution_count": 107,
   "metadata": {},
   "outputs": [
    {
     "data": {
      "text/plain": [
       "<AxesSubplot:xlabel='object_ID', ylabel='fr'>"
      ]
     },
     "execution_count": 107,
     "metadata": {},
     "output_type": "execute_result"
    },
    {
     "data": {
      "image/png": "[encoded data removed]",
      "text/plain": [
       "<Figure size 432x288 with 1 Axes>"
      ]
     },
     "metadata": {
      "needs_background": "light"
     },
     "output_type": "display_data"
    }
   ],
   "source": [
    "# Compute the firing rate for each different object cued for memory \n",
    "sns.barplot(x='object_ID', y='fr', data=data_df)"
   ]
  },
  {
   "cell_type": "code",
   "execution_count": 121,
   "metadata": {},
   "outputs": [
    {
     "data": {
      "image/png": "[encoded data removed]",
      "text/plain": [
       "<Figure size 864x576 with 4 Axes>"
      ]
     },
     "metadata": {
      "needs_background": "light"
     },
     "output_type": "display_data"
    }
   ],
   "source": [
    "# Does spatial firing rate differ as a function of which object is cued for retrieval? \n",
    "diff_objects = data_df.object_ID.unique()\n",
    "fig, axes = plt.subplots(2, 2, figsize=[12, 8])\n",
    "\n",
    "for ind, obj in enumerate(axes.flatten()):\n",
    "    sns.lineplot(x='spatial_bin', y='fr', data=data_df[data_df.object_ID==diff_objects[ind]], ci=68, ax=obj)\n",
    "    obj.vlines(data_df[data_df.object_ID==diff_objects[ind]].object_bin, 0, obj.get_ylim()[-1])\n",
    "    obj.set_title(diff_objects[ind])\n",
    "\n",
    "fig.tight_layout()"
   ]
  },
  {
   "cell_type": "markdown",
   "metadata": {},
   "source": [
    "### Statistical Analysis\n",
    "\n",
    "Our next goal is to statistically determine if this neuron shows significant spatial tuning, significant object tuning, or an interaction of the two. Let's discuss each of these possibilites:\n",
    "\n",
    "1) Significant spatial tuning: A neuron significantly increases it's firing in a particular location. We would call this a place cell. \n",
    "\n",
    "2) Significant object tuning: A neuron significantly increases it's firing when a particular object is cued for memory retrieval. \n",
    "\n",
    "3) Significant spatial x object: A neuron significantly increases it's firing in a particular location **as a function of the object cued for memory**. Put another way, the memory a person is cued to retrieve is affecting the spatial tuning of the neuron.\n",
    "\n",
    "To assess these possibilities in an individual neuron, we are going to do a simple 2-way ANOVA. "
   ]
  },
  {
   "cell_type": "code",
   "execution_count": 110,
   "metadata": {},
   "outputs": [],
   "source": [
    "# Define the formula of interest that we want to test\n",
    "formula = 'fr~C(spatial_bin) + C(object_ID) + C(spatial_bin)*C(object_ID)'"
   ]
  },
  {
   "cell_type": "code",
   "execution_count": 122,
   "metadata": {},
   "outputs": [],
   "source": [
    "# Fit the model\n",
    "model = ols(formula, data_df).fit()\n",
    "aov_table = anova_lm(model, typ=2)\n",
    "\n",
    "# Grab variables of interest\n",
    "F_int = aov_table['F']['C(spatial_bin):C(object_ID)']\n",
    "F_pos = aov_table['F']['C(spatial_bin)']\n",
    "F_obj = aov_table['F']['C(object_ID)']"
   ]
  },
  {
   "cell_type": "code",
   "execution_count": 124,
   "metadata": {},
   "outputs": [
    {
     "data": {
      "text/html": [
       "<div>\n",
       "<style scoped>\n",
       "    .dataframe tbody tr th:only-of-type {\n",
       "        vertical-align: middle;\n",
       "    }\n",
       "\n",
       "    .dataframe tbody tr th {\n",
       "        vertical-align: top;\n",
       "    }\n",
       "\n",
       "    .dataframe thead th {\n",
       "        text-align: right;\n",
       "    }\n",
       "</style>\n",
       "<table border=\"1\" class=\"dataframe\">\n",
       "  <thead>\n",
       "    <tr style=\"text-align: right;\">\n",
       "      <th></th>\n",
       "      <th>sum_sq</th>\n",
       "      <th>df</th>\n",
       "      <th>F</th>\n",
       "      <th>PR(&gt;F)</th>\n",
       "    </tr>\n",
       "  </thead>\n",
       "  <tbody>\n",
       "    <tr>\n",
       "      <th>C(spatial_bin)</th>\n",
       "      <td>1.877170e+04</td>\n",
       "      <td>19.0</td>\n",
       "      <td>6.779549</td>\n",
       "      <td>3.681931e-18</td>\n",
       "    </tr>\n",
       "    <tr>\n",
       "      <th>C(object_ID)</th>\n",
       "      <td>1.320507e+04</td>\n",
       "      <td>3.0</td>\n",
       "      <td>30.204404</td>\n",
       "      <td>2.104132e-19</td>\n",
       "    </tr>\n",
       "    <tr>\n",
       "      <th>C(spatial_bin):C(object_ID)</th>\n",
       "      <td>1.036921e+04</td>\n",
       "      <td>57.0</td>\n",
       "      <td>1.248308</td>\n",
       "      <td>9.945531e-02</td>\n",
       "    </tr>\n",
       "    <tr>\n",
       "      <th>Residual</th>\n",
       "      <td>1.103760e+06</td>\n",
       "      <td>7574.0</td>\n",
       "      <td>NaN</td>\n",
       "      <td>NaN</td>\n",
       "    </tr>\n",
       "  </tbody>\n",
       "</table>\n",
       "</div>"
      ],
      "text/plain": [
       "                                   sum_sq      df          F        PR(>F)\n",
       "C(spatial_bin)               1.877170e+04    19.0   6.779549  3.681931e-18\n",
       "C(object_ID)                 1.320507e+04     3.0  30.204404  2.104132e-19\n",
       "C(spatial_bin):C(object_ID)  1.036921e+04    57.0   1.248308  9.945531e-02\n",
       "Residual                     1.103760e+06  7574.0        NaN           NaN"
      ]
     },
     "execution_count": 124,
     "metadata": {},
     "output_type": "execute_result"
    }
   ],
   "source": [
    "# Check the model fit results\n",
    "aov_table "
   ]
  },
  {
   "cell_type": "markdown",
   "metadata": {},
   "source": [
    "Note that in the above, this neuron appears to have significant encoding of some features of interest!\n",
    "\n",
    "However, we must keep in mind that our data might violate normality assumptions for computing the significance of the test-statistic (F)!\n",
    "\n",
    "In order to more robustly evaluate the statistics, we should compute our own null distributions from surrogate data to assess significance."
   ]
  },
  {
   "cell_type": "code",
   "execution_count": null,
   "metadata": {},
   "outputs": [],
   "source": []
  },
  {
   "cell_type": "markdown",
   "metadata": {},
   "source": [
    "## Assignment:\n",
    "\n",
    "In this assignment, you will analyze human single neuron activity during a virtual-reality spatial memory task. In this task, subjects move down a linear track while encoding and retrieving the locations of objects along the track. You will plot neuronal spiking as a function of time and spatial position, and apply statistical methods for assessing significant changes in both domains. You will also measure the influence of memory cues and memory performance on spiking activity. \n",
    "\n",
    "1) Write a general function to plot the raster and histogram at a user defined time window and bin length (for the histogram). Use it to plot the rasters and histograms for CueOn, CueOff, FeedbackOn and FeedbackOff. This function should use baselined spike times and baselined event times/trial as input. Plot the output for one neuron. \n",
    "\n",
    "2) Write a similar function using the smoothed spiking activity instead of the PSTH. Keep in mind that the we computed the smoothed spiking activity at 100 Hz. Be sure to allow users to input width of smoothing kernel. You may want to write a separate function to smooth the firing rate, and call that within your function to plot the raster + smoothed firing rate. Plot the output for one neuron, with 3 different smoothing widths for your kernel. \n",
    "\n",
    "3) Calculate the mean firing rate and the error on every trial, and plot firing rate as a function of error. Hint: this is going to require that you again split the events into trials using the ```trialNum``` field. \n",
    "BONUS: Is there a statistical relationship between firing rate and memory performance? \n",
    "\n",
    "4) Do some shuffling to determine if the F-statistic from the spatial ANOVA is significant. Hint: use np.roll() to circularly shift data in a pandas dataframe: \n",
    "```df.reindex(index=np.roll(df.index, shift))```. If you see any neurons with a significant interaction in the ANOVA, make a plot of the spatial firing rate split by object. If you see any neurons that do not have a significant interaction but do have a significant main effect of location, make a plot of the spatial firing rate over all trials. \n"
   ]
  },
  {
   "cell_type": "code",
   "execution_count": null,
   "metadata": {},
   "outputs": [],
   "source": []
  }
 ],
 "metadata": {
  "kernelspec": {
   "display_name": "eeg",
   "language": "python",
   "name": "eeg"
  },
  "language_info": {
   "codemirror_mode": {
    "name": "ipython",
    "version": 3
   },
   "file_extension": ".py",
   "mimetype": "text/x-python",
   "name": "python",
   "nbconvert_exporter": "python",
   "pygments_lexer": "ipython3",
   "version": "3.7.10"
  }
 },
 "nbformat": 4,
 "nbformat_minor": 5
}
