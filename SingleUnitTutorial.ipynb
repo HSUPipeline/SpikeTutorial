{
 "cells": [
  {
   "cell_type": "markdown",
   "id": "hazardous-skill",
   "metadata": {},
   "source": [
    "# Analyzing Single Neuron Activity\n",
    "\n",
    "In this tutorial we will examine single-neuron data collected from human patients.\n",
    "\n",
    "This tutorial was originally developed by \n",
    "[Salman Qasim](https://seqasim.wixsite.com/research),\n",
    "and has been updated by\n",
    "[Tom Donoghue](https://tomdonoghue.github.io/). \n",
    "\n",
    "### Requirements\n",
    "\n",
    "As well as standard scientific Python packages, this tutorial requires \n",
    "[pynwb](https://github.com/NeurodataWithoutBorders/pynwb)."
   ]
  },
  {
   "cell_type": "code",
   "execution_count": 64,
   "id": "powerful-steam",
   "metadata": {},
   "outputs": [],
   "source": [
    "# Imports - standard scientific Python packages\n",
    "import numpy as np\n",
    "import matplotlib.pyplot as plt\n",
    "\n",
    "# Imports - single-unit related \n",
    "from pynwb import NWBHDF5IO"
   ]
  },
  {
   "cell_type": "markdown",
   "id": "outdoor-therapy",
   "metadata": {},
   "source": [
    "## Overview\n",
    "\n",
    "The predominant way in which a neuron communicates is through **action potentials**. These are rapid depolarizations across the neuronal cell membrane that culminate in a neuron releasing neurotransmitters that can do all sorts of things, like excite or inhibit action potentials in other neurons. Because action potentials are characterized by a large and fast change in membrane potential they can be recorded by microwires placed near the neuronal membrane, making them the most direct \"biomarker\" of neural activity. \n",
    "\n",
    "When we look at neuronal spiking during a behavioral task, we are often looking for increases in the rate of spiking related to behavioral variables. This is thought to imply a relationship between the stimulus and the neuron's spiking, and is called **rate coding**. \n",
    "\n",
    "Here, we are going to cover some of the basics of analyzing single neuron responses. It is worth noting that, single-unit recordings did not fall under the direct purview of the RAM project's data collections; as such, single-unit data loading and analyses don't follow the same standard protocol you've learned so far. Instead, we provide proprietary loading functions for the data (and do not focus too heavily on data processing). "
   ]
  },
  {
   "cell_type": "markdown",
   "id": "breeding-lover",
   "metadata": {},
   "source": [
    "## First Dataset: Object Presentation\n",
    "\n",
    "The first dataset we will use is a an openly available dataset from human patients performing a recognition memory, provided by the \n",
    "[Rutishauser Lab](https://www.cedars-sinai.edu/research/labs/rutishauser.html). \n",
    "\n",
    "In this task, subjects are presented with pictures of objects, that they are later asked to recall. For our purposes, we will focus on the object presentation. \n",
    "\n",
    "For convenience, an example subject is included in this repository. The full dataset is available on \n",
    "[OSF repository](https://osf.io/cd6qp/), and described in this \n",
    "[paper](https://doi.org/10.1038/s41597-020-0415-9). "
   ]
  },
  {
   "cell_type": "markdown",
   "id": "cellular-positive",
   "metadata": {},
   "source": [
    "### Load NWB File\n",
    "\n",
    "The data that we are loading are in the [NWB](https://www.nwb.org/) format.\n",
    "\n",
    "In this tutorial, we won't go into much details on NWB files. For more information on these files, see these\n",
    "[NWB examples](https://github.com/TomDonoghue/NWBExamples)."
   ]
  },
  {
   "cell_type": "code",
   "execution_count": 26,
   "id": "organic-documentary",
   "metadata": {},
   "outputs": [],
   "source": [
    "# Load datafile\n",
    "file_name = 'object_data.nwb'\n",
    "io = NWBHDF5IO('data/' + file_name, 'r')\n",
    "nwbfile = io.read()"
   ]
  },
  {
   "cell_type": "markdown",
   "id": "industrial-shooting",
   "metadata": {},
   "source": [
    "### Check Units"
   ]
  },
  {
   "cell_type": "code",
   "execution_count": 27,
   "id": "permanent-inclusion",
   "metadata": {},
   "outputs": [
    {
     "name": "stdout",
     "output_type": "stream",
     "text": [
      "38\n"
     ]
    }
   ],
   "source": [
    "# Check how many units in the current file\n",
    "n_units = len(nwbfile.units)\n",
    "print(n_units)"
   ]
  },
  {
   "cell_type": "code",
   "execution_count": 32,
   "id": "resident-football",
   "metadata": {},
   "outputs": [],
   "source": [
    "# Set index for the unit of interest\n",
    "s_ind = 0"
   ]
  },
  {
   "cell_type": "code",
   "execution_count": 42,
   "id": "constant-advertiser",
   "metadata": {},
   "outputs": [],
   "source": [
    "# Extract the waveform for the unit of interest\n",
    "waveform = nwbfile.units['waveform_mean_encoding'][s_ind, :]"
   ]
  },
  {
   "cell_type": "code",
   "execution_count": 40,
   "id": "entire-moses",
   "metadata": {},
   "outputs": [
    {
     "data": {
      "text/plain": [
       "[<matplotlib.lines.Line2D at 0x7fa4528911c0>]"
      ]
     },
     "execution_count": 40,
     "metadata": {},
     "output_type": "execute_result"
    },
    {
     "data": {
      "image/png": "[encoded data removed]",
      "text/plain": [
       "<Figure size 432x288 with 1 Axes>"
      ]
     },
     "metadata": {
      "needs_background": "light"
     },
     "output_type": "display_data"
    }
   ],
   "source": [
    "# Plot the waveform of the unit of interest\n",
    "plt.plot(waveform)"
   ]
  },
  {
   "cell_type": "code",
   "execution_count": null,
   "id": "cultural-lawsuit",
   "metadata": {},
   "outputs": [],
   "source": [
    "# Get spikes from a neuron of interest\n",
    "spikes = nwbfile.units.get_unit_spike_times(s_ind)"
   ]
  },
  {
   "cell_type": "code",
   "execution_count": 62,
   "id": "supreme-party",
   "metadata": {},
   "outputs": [
    {
     "data": {
      "image/png": "[encoded data removed]",
      "text/plain": [
       "<Figure size 432x288 with 1 Axes>"
      ]
     },
     "metadata": {
      "needs_background": "light"
     },
     "output_type": "display_data"
    }
   ],
   "source": [
    "# Plot a raster of a series of spikes\n",
    "plt.eventplot(spikes[0:50])\n",
    "plt.axis('off');"
   ]
  },
  {
   "cell_type": "markdown",
   "id": "failing-indianapolis",
   "metadata": {},
   "source": [
    "### Task Related Activity"
   ]
  },
  {
   "cell_type": "code",
   "execution_count": null,
   "id": "alpine-milan",
   "metadata": {},
   "outputs": [],
   "source": []
  },
  {
   "cell_type": "code",
   "execution_count": null,
   "id": "fifteen-intent",
   "metadata": {},
   "outputs": [],
   "source": []
  },
  {
   "cell_type": "code",
   "execution_count": null,
   "id": "tropical-honor",
   "metadata": {},
   "outputs": [],
   "source": []
  },
  {
   "cell_type": "markdown",
   "id": "determined-tuition",
   "metadata": {},
   "source": [
    "## Object Dataset: Possible Extensions\n",
    "\n",
    "Words, words, words."
   ]
  },
  {
   "cell_type": "code",
   "execution_count": null,
   "id": "optical-brush",
   "metadata": {},
   "outputs": [],
   "source": []
  },
  {
   "cell_type": "code",
   "execution_count": null,
   "id": "geographic-korean",
   "metadata": {},
   "outputs": [],
   "source": []
  },
  {
   "cell_type": "markdown",
   "id": "saving-account",
   "metadata": {},
   "source": [
    "## ## Second Dataset: Spatial Navigation\n",
    "\n",
    "\n",
    "We won't get too much into the intricacies of the event design here vs. in the RAM tasks. Suffice to say they're different; we slice up every 100 ms of time that the person is moving through the track, rather than organizing by \"events\" like a word appearing onscreen. \n",
    "\n",
    "**The critical field in the event structure is the ```timesoffset``` field. The single-neuron recording system might be turned on before the task! And it's certainly turned off after the task stops logging. This field tells you the timepoints, relative to the spike times, that take place during the task**\n",
    "\n",
    "\n",
    "In this section we will go over some simple single neuron analyses with respect to spatial position and memory. For reference, please see: https://www.nature.com/articles/s41593-019-0523-z"
   ]
  },
  {
   "cell_type": "markdown",
   "id": "perfect-worthy",
   "metadata": {},
   "source": [
    "```fr``` is the firing rate of each neuron in a numpy array. Firing rate refers to the number of spikes divided by the amount of time you are looking at.\n",
    "\n",
    "A key intuition here is that you can only measure \"instantaneous\" firing rate by **binning** the number of spikes into some window of time. In this case, they have been binned into 100 ms windows. So ```fr.shape[0]``` represents the number of non-overlapping 100 ms bins we have used to characterize the firing rate over time.\n",
    "\n",
    "```spikeTimes``` is the actual time that each detected spike occurred, with time=0 being the moment the acquisition software was set to \"record\". Note that this is usually done before the task actually begins, so we (later) will need a way to relate these spike times to the times at which interesting things happen in the task. Spiking data is usually recorded at 30 KHz meaning we have HIGH temporal resolution.\n",
    "\n",
    "```spikeNames``` tells you the microwire channel on which each neuron was recorded, as well as which cluster this neuron was on the channel. That's important, as an individual microwire can pick up more than one neuron. \n"
   ]
  },
  {
   "cell_type": "code",
   "execution_count": null,
   "id": "intimate-tender",
   "metadata": {},
   "outputs": [],
   "source": []
  },
  {
   "cell_type": "code",
   "execution_count": null,
   "id": "unlikely-justice",
   "metadata": {},
   "outputs": [],
   "source": []
  },
  {
   "cell_type": "code",
   "execution_count": 5,
   "id": "positive-arrangement",
   "metadata": {},
   "outputs": [],
   "source": [
    "# Load dataset\n",
    "#subj = 'R1219C'\n",
    "#session = '0'"
   ]
  },
  {
   "cell_type": "code",
   "execution_count": null,
   "id": "unknown-antigua",
   "metadata": {},
   "outputs": [],
   "source": [
    "#"
   ]
  },
  {
   "cell_type": "code",
   "execution_count": null,
   "id": "greatest-cleaner",
   "metadata": {},
   "outputs": [],
   "source": []
  },
  {
   "cell_type": "markdown",
   "id": "proud-moment",
   "metadata": {},
   "source": [
    "### Descriptive Explorations"
   ]
  },
  {
   "cell_type": "markdown",
   "id": "chemical-madison",
   "metadata": {},
   "source": [
    "#### Firing Rate"
   ]
  },
  {
   "cell_type": "code",
   "execution_count": null,
   "id": "coordinated-carpet",
   "metadata": {},
   "outputs": [],
   "source": [
    "def compute_spike_rate(spikes):\n",
    "    \"\"\"Estimate spike rate from a vector of spike times, in seconds.\"\"\"\n",
    "    \n",
    "    return len(spikes) / (spikes[-1] - spikes[0])\n",
    "\n",
    "#def get_spike_time_range(spikes, tmin, tmax):\n",
    "#    \"\"\"Extract spike times for a particular time range.\"\"\"\n",
    "#    \n",
    "#    return spikes[np.squeeze(np.logical_and([spikes > tmin], [spikes < tmax]))]"
   ]
  },
  {
   "cell_type": "code",
   "execution_count": null,
   "id": "sustainable-nature",
   "metadata": {},
   "outputs": [],
   "source": [
    "fr = compute_spike_rate(spikes)\n",
    "print(fr)\n",
    "\n",
    "frs = [compute_spike_rate(nwbfile.units.get_unit_spike_times(ind)) \\\n",
    "    for ind in range(n_units)]\n",
    "\n",
    "frs"
   ]
  },
  {
   "cell_type": "code",
   "execution_count": null,
   "id": "quick-entrepreneur",
   "metadata": {},
   "outputs": [],
   "source": []
  },
  {
   "cell_type": "code",
   "execution_count": null,
   "id": "broken-adaptation",
   "metadata": {},
   "outputs": [],
   "source": [
    "# Plot the mean firing rate for each neuron \n",
    "firing_rate_df = pd.DataFrame(fr, columns=spikeNames).melt(var_name='spikeName', value_name='firing_rate')\n",
    "firing_rate_df['spikeName'] = firing_rate_df['spikeName'].apply(lambda x: x[3:])\n",
    "f, ax = plt.subplots(1,1, figsize=[14,3])\n",
    "sns.barplot(x='spikeName', y='firing_rate', data=firing_rate_df, ci=68)"
   ]
  },
  {
   "cell_type": "markdown",
   "id": "generic-responsibility",
   "metadata": {},
   "source": [
    "This tells you how active, in general, each neuron was during the recording session. "
   ]
  },
  {
   "cell_type": "code",
   "execution_count": null,
   "id": "legislative-ontario",
   "metadata": {},
   "outputs": [],
   "source": []
  },
  {
   "cell_type": "markdown",
   "id": "surprising-drain",
   "metadata": {},
   "source": [
    "#### Inter-Spike Interval\n",
    "\n",
    "One way to assess spiking activity is to look at the time interval between each spike (aka the **interspike interval**). "
   ]
  },
  {
   "cell_type": "code",
   "execution_count": null,
   "id": "yellow-ethernet",
   "metadata": {},
   "outputs": [],
   "source": [
    "# Compute ISI for Neuron 1 \n",
    "# isi = np.diff(np.array(spikes))\n",
    "# sns.distplot(isi)\n",
    "# plt.xlabel('ISI (ms)')\n",
    "# plt.ylabel('density')"
   ]
  },
  {
   "cell_type": "code",
   "execution_count": null,
   "id": "undefined-death",
   "metadata": {},
   "outputs": [],
   "source": []
  },
  {
   "cell_type": "code",
   "execution_count": null,
   "id": "educational-potential",
   "metadata": {},
   "outputs": [],
   "source": []
  },
  {
   "cell_type": "markdown",
   "id": "specific-marble",
   "metadata": {},
   "source": [
    "#### Coefficient of Variation\n",
    "\n",
    "\n",
    "The CV does not capture potential variability on longer time scales especially if there's drift in the neuron's mean firing rate over time. A measure of spike time variability taking this long-term variability into account is the Fano factor, the ratio of the mean spike count and the variance the spike count within a time window. We will compute that a little later."
   ]
  },
  {
   "cell_type": "markdown",
   "id": "diagnostic-biotechnology",
   "metadata": {},
   "source": [
    "Another useful thing that ISI distribution can tell you is if the neuron you are looking at is a **bursty** neuron. By that, I mean a neuron that tends to fire a lot of action potentials in short bursts, rather than as isolated single spikes. As you can imagine, bursty neurons tend to violate Poisson assumptions and have ISI distributions that look a little more bimodal, with lots of spikes close together, and lots of bursts far apart. But that is a good segue into......"
   ]
  },
  {
   "cell_type": "code",
   "execution_count": null,
   "id": "virgin-youth",
   "metadata": {},
   "outputs": [],
   "source": [
    "# Compute coefficient of variation\n",
    "cv = np.std(isi) / np.mean(isi)\n",
    "print(cv)"
   ]
  },
  {
   "cell_type": "code",
   "execution_count": null,
   "id": "alternative-three",
   "metadata": {},
   "outputs": [],
   "source": []
  },
  {
   "cell_type": "code",
   "execution_count": null,
   "id": "worthy-wisdom",
   "metadata": {},
   "outputs": [],
   "source": []
  },
  {
   "cell_type": "markdown",
   "id": "exterior-notice",
   "metadata": {},
   "source": [
    "### Data Representations\n",
    "\n",
    "#### Spike Times\n",
    "\n",
    "....\n",
    "\n",
    "#### Spike Trains\n",
    "\n",
    "...\n",
    "\n",
    "#### Continuous Firing Rates\n",
    "\n",
    "Before we go any further, let's look at some spike trains. We didn't do this before because we didn't know when the task started and stopped - now we do, and can define a spike train using the spikes that happened during the task."
   ]
  },
  {
   "cell_type": "code",
   "execution_count": null,
   "id": "opposed-month",
   "metadata": {},
   "outputs": [],
   "source": []
  },
  {
   "cell_type": "code",
   "execution_count": null,
   "id": "dying-tribute",
   "metadata": {},
   "outputs": [],
   "source": []
  },
  {
   "cell_type": "code",
   "execution_count": null,
   "id": "outstanding-telephone",
   "metadata": {},
   "outputs": [],
   "source": []
  },
  {
   "cell_type": "markdown",
   "id": "neural-queens",
   "metadata": {},
   "source": [
    "## Assignment:\n",
    "\n",
    "In this assignment, you will analyze human single neuron activity during a virtual-reality spatial memory task. In this task, subjects move down a linear track while encoding and retrieving the locations of objects along the track. You will plot neuronal spiking as a function of time and spatial position, and apply statistical methods for assessing significant changes in both domains. You will also measure the influence of memory cues and memory performance on spiking activity. \n",
    "\n",
    "1) Write a general function to plot the raster and histogram at a user defined time window and bin length (for the histogram). Use it to plot the rasters and histograms for CueOn, CueOff, FeedbackOn and FeedbackOff. This function should use baselined spike times and baselined event times/trial as input. Plot the output for one neuron. \n",
    "\n",
    "2) Write a similar function using the smoothed spiking activity instead of the PSTH. Keep in mind that the we computed the smoothed spiking activity at 100 Hz. Be sure to allow users to input width of smoothing kernel. You may want to write a separate function to smooth the firing rate, and call that within your function to plot the raster + smoothed firing rate. Plot the output for one neuron, with 3 different smoothing widths for your kernel. \n",
    "\n",
    "3) Calculate the mean firing rate and the error on every trial, and plot firing rate as a function of error. Hint: this is going to require that you again split the events into trials using the ```trialNum``` field. \n",
    "BONUS: Is there a statistical relationship between firing rate and memory performance? \n",
    "\n",
    "4) Do some shuffling to determine if the F-statistic from the spatial ANOVA is significant. Hint: use np.roll() to circularly shift data in a pandas dataframe: \n",
    "```df.reindex(index=np.roll(df.index, shift))```. If you see any neurons with a significant interaction in the ANOVA, make a plot of the spatial firing rate split by object. If you see any neurons that do not have a significant interaction but do have a significant main effect of location, make a plot of the spatial firing rate over all trials. \n"
   ]
  },
  {
   "cell_type": "code",
   "execution_count": null,
   "id": "gorgeous-annual",
   "metadata": {},
   "outputs": [],
   "source": []
  }
 ],
 "metadata": {
  "kernelspec": {
   "display_name": "Python 3",
   "language": "python",
   "name": "python3"
  },
  "language_info": {
   "codemirror_mode": {
    "name": "ipython",
    "version": 3
   },
   "file_extension": ".py",
   "mimetype": "text/x-python",
   "name": "python",
   "nbconvert_exporter": "python",
   "pygments_lexer": "ipython3",
   "version": "3.8.8"
  }
 },
 "nbformat": 4,
 "nbformat_minor": 5
}
